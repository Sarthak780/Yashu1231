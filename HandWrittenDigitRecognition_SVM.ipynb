{
  "nbformat": 4,
  "nbformat_minor": 0,
  "metadata": {
    "colab": {
      "name": "hANDwRITTENdIGITreCOGNITION_sVm.ipynb",
      "provenance": [],
      "authorship_tag": "ABX9TyMecUfwg/KU9Hc5lTlZXnld",
      "include_colab_link": true
    },
    "kernelspec": {
      "name": "python3",
      "display_name": "Python 3"
    },
    "language_info": {
      "name": "python"
    }
  },
  "cells": [
    {
      "cell_type": "markdown",
      "metadata": {
        "id": "view-in-github",
        "colab_type": "text"
      },
      "source": [
        "<a href=\"https://colab.research.google.com/github/Yashu1231/Yashu1231/blob/main/HandWrittenDigitRecognition_SVM.ipynb\" target=\"_parent\"><img src=\"https://colab.research.google.com/assets/colab-badge.svg\" alt=\"Open In Colab\"/></a>"
      ]
    },
    {
      "cell_type": "code",
      "execution_count": 4,
      "metadata": {
        "id": "UbU0M9sqcZIz"
      },
      "outputs": [],
      "source": [
        "import numpy as np\n",
        "from sklearn.datasets import load_digits"
      ]
    },
    {
      "cell_type": "code",
      "source": [
        "dataset=load_digits()"
      ],
      "metadata": {
        "id": "RprjESLYc0Lx"
      },
      "execution_count": 7,
      "outputs": []
    },
    {
      "cell_type": "code",
      "source": [
        "print(dataset.data)\n",
        "print(dataset.target)"
      ],
      "metadata": {
        "colab": {
          "base_uri": "https://localhost:8080/"
        },
        "id": "gYnKpAgPc0PC",
        "outputId": "2d92eec7-b5f3-4cdb-c003-fdc99b4b0e46"
      },
      "execution_count": 9,
      "outputs": [
        {
          "output_type": "stream",
          "name": "stdout",
          "text": [
            "[[ 0.  0.  5. ...  0.  0.  0.]\n",
            " [ 0.  0.  0. ... 10.  0.  0.]\n",
            " [ 0.  0.  0. ... 16.  9.  0.]\n",
            " ...\n",
            " [ 0.  0.  1. ...  6.  0.  0.]\n",
            " [ 0.  0.  2. ... 12.  0.  0.]\n",
            " [ 0.  0. 10. ... 12.  1.  0.]]\n",
            "[0 1 2 ... 8 9 8]\n"
          ]
        }
      ]
    },
    {
      "cell_type": "code",
      "source": [
        "print(dataset.data.shape)\n",
        "print(dataset.images.shape)\n",
        "dataImageLength=len(dataset.images)\n",
        "print(leng)\n",
        "\n"
      ],
      "metadata": {
        "colab": {
          "base_uri": "https://localhost:8080/"
        },
        "id": "a9_J109Rc0Rm",
        "outputId": "42806df2-ad45-46bb-afcf-1b10063f57b5"
      },
      "execution_count": 13,
      "outputs": [
        {
          "output_type": "stream",
          "name": "stdout",
          "text": [
            "(1797, 64)\n",
            "(1797, 8, 8)\n",
            "1797\n"
          ]
        }
      ]
    },
    {
      "cell_type": "code",
      "source": [
        "n=12 ###select any random nth sample for visualising the sample using matlab\n",
        "\n",
        "import matplotlib.pyplot as plt\n",
        "plt.gray()\n",
        "plt.matshow(dataset.images[n])\n",
        "plt.show()\n",
        "\n",
        "dataset.images[n]"
      ],
      "metadata": {
        "colab": {
          "base_uri": "https://localhost:8080/",
          "height": 439
        },
        "id": "7hzz9nmFc0T8",
        "outputId": "5264f9c8-03ff-4601-a6e4-87d155662d81"
      },
      "execution_count": 14,
      "outputs": [
        {
          "output_type": "display_data",
          "data": {
            "text/plain": [
              "<Figure size 432x288 with 0 Axes>"
            ]
          },
          "metadata": {}
        },
        {
          "output_type": "display_data",
          "data": {
            "text/plain": [
              "<Figure size 288x288 with 1 Axes>"
            ],
            "image/png": "[encoded data removed]"
          },
          "metadata": {
            "needs_background": "light"
          }
        },
        {
          "output_type": "execute_result",
          "data": {
            "text/plain": [
              "array([[ 0.,  0.,  5., 12.,  1.,  0.,  0.,  0.],\n",
              "       [ 0.,  0., 15., 14.,  7.,  0.,  0.,  0.],\n",
              "       [ 0.,  0., 13.,  1., 12.,  0.,  0.,  0.],\n",
              "       [ 0.,  2., 10.,  0., 14.,  0.,  0.,  0.],\n",
              "       [ 0.,  0.,  2.,  0., 16.,  1.,  0.,  0.],\n",
              "       [ 0.,  0.,  0.,  6., 15.,  0.,  0.,  0.],\n",
              "       [ 0.,  0.,  9., 16., 15.,  9.,  8.,  2.],\n",
              "       [ 0.,  0.,  3., 11.,  8., 13., 12.,  4.]])"
            ]
          },
          "metadata": {},
          "execution_count": 14
        }
      ]
    },
    {
      "cell_type": "code",
      "source": [
        "x=dataset.images.reshape((dataImageLength,-1))\n",
        "x"
      ],
      "metadata": {
        "colab": {
          "base_uri": "https://localhost:8080/"
        },
        "id": "JgPnNclMiKt-",
        "outputId": "e75d8218-830c-4e00-c6d2-f11f1f112212"
      },
      "execution_count": 15,
      "outputs": [
        {
          "output_type": "execute_result",
          "data": {
            "text/plain": [
              "array([[ 0.,  0.,  5., ...,  0.,  0.,  0.],\n",
              "       [ 0.,  0.,  0., ..., 10.,  0.,  0.],\n",
              "       [ 0.,  0.,  0., ..., 16.,  9.,  0.],\n",
              "       ...,\n",
              "       [ 0.,  0.,  1., ...,  6.,  0.,  0.],\n",
              "       [ 0.,  0.,  2., ..., 12.,  0.,  0.],\n",
              "       [ 0.,  0., 10., ..., 12.,  1.,  0.]])"
            ]
          },
          "metadata": {},
          "execution_count": 15
        }
      ]
    },
    {
      "cell_type": "code",
      "source": [
        "y=dataset.target\n",
        "y"
      ],
      "metadata": {
        "colab": {
          "base_uri": "https://localhost:8080/"
        },
        "id": "HY0DCvnkiKw2",
        "outputId": "a2b847c7-fb52-4fe8-9f1c-18fb1b89f4f2"
      },
      "execution_count": 16,
      "outputs": [
        {
          "output_type": "execute_result",
          "data": {
            "text/plain": [
              "array([0, 1, 2, ..., 8, 9, 8])"
            ]
          },
          "metadata": {},
          "execution_count": 16
        }
      ]
    },
    {
      "cell_type": "code",
      "source": [
        "from sklearn.model_selection import train_test_split\n",
        "x_train,x_test,y_train,y_test = train_test_split(x,y,test_size=0.25,random_state=0)\n",
        "print(x_train.shape)\n",
        "print(x_test.shape)\n"
      ],
      "metadata": {
        "colab": {
          "base_uri": "https://localhost:8080/"
        },
        "id": "sXs1PHXgc0Xx",
        "outputId": "f37c907d-0c3e-4785-d609-7924d4e0c33e"
      },
      "execution_count": 19,
      "outputs": [
        {
          "output_type": "stream",
          "name": "stdout",
          "text": [
            "(1347, 64)\n",
            "(450, 64)\n"
          ]
        }
      ]
    },
    {
      "cell_type": "code",
      "source": [
        "###play with different tuning parameters\n",
        "from sklearn import svm\n",
        "model1=svm.SVC(kernel='linear')\n",
        "model2=svm.SVC(kernel='rbf')\n",
        "model3=svm.SVC(gamma=0.001)\n",
        "model4=svm.SVC(gamma=0.001,C=0.1)\n",
        "\n",
        "model1.fit(x_train,y_train)\n",
        "model2.fit(x_train,y_train)\n",
        "model3.fit(x_train,y_train)\n",
        "model4.fit(x_train,y_train)\n",
        "\n",
        "\n",
        "y_predmodel1=model1.predict(x_test)\n",
        "y_predmodel2=model2.predict(x_test)\n",
        "y_predmodel3=model3.predict(x_test)\n",
        "y_predmodel4=model4.predict(x_test)\n",
        "\n",
        "from sklearn.metrics import accuracy_score\n",
        "print(\"accuracy of the model 1: {0}\".format(accuracy_score(y_test, y_predmodel1)*100))\n",
        "print(\"accuracy of the model 2: {0}\".format(accuracy_score(y_test, y_predmodel2 )*100))\n",
        "print(\"accuracy of the model 3: {0}\".format(accuracy_score(y_test, y_predmodel3)*100))\n",
        "print(\"accuracy of the model 4: {0}\".format(accuracy_score(y_test, y_predmodel4)*100))\n",
        "\n",
        "\n",
        "\n"
      ],
      "metadata": {
        "colab": {
          "base_uri": "https://localhost:8080/"
        },
        "id": "oamDE_Uwlo8i",
        "outputId": "52572c61-0728-421e-9734-daad07648830"
      },
      "execution_count": 26,
      "outputs": [
        {
          "output_type": "stream",
          "name": "stdout",
          "text": [
            "accuracy of the model 1: 97.11111111111111\n",
            "accuracy of the model 2: 99.11111111111111\n",
            "accuracy of the model 3: 99.55555555555556\n",
            "accuracy of the model 4: 96.66666666666667\n"
          ]
        }
      ]
    },
    {
      "cell_type": "code",
      "source": [
        "from sklearn import svm\n",
        "model=svm.SVC()  ####there are many parameters that could be used to improve accuracy like kernel,gamma,c\n",
        "model.fit(x_train,y_train)"
      ],
      "metadata": {
        "colab": {
          "base_uri": "https://localhost:8080/"
        },
        "id": "44oWlTHIjG6R",
        "outputId": "262b98ec-3ab9-4c58-c82e-af9acff699f7"
      },
      "execution_count": 20,
      "outputs": [
        {
          "output_type": "execute_result",
          "data": {
            "text/plain": [
              "SVC()"
            ]
          },
          "metadata": {},
          "execution_count": 20
        }
      ]
    },
    {
      "cell_type": "code",
      "source": [
        "###predicting digits\n",
        "y_pred=model.predict(x_test)"
      ],
      "metadata": {
        "id": "M2aS8kmvjG-w"
      },
      "execution_count": 21,
      "outputs": []
    },
    {
      "cell_type": "code",
      "source": [
        "from sklearn.metrics import accuracy_score\n",
        "print(\"accuracy of the model: {0}\".format(accuracy_score(y_test, y_pred)*100))"
      ],
      "metadata": {
        "colab": {
          "base_uri": "https://localhost:8080/"
        },
        "id": "EzFyARIvjHBo",
        "outputId": "67ce5493-7300-438c-a984-6a34b4d66c6f"
      },
      "execution_count": 22,
      "outputs": [
        {
          "output_type": "stream",
          "name": "stdout",
          "text": [
            "accuracy of the model: 99.11111111111111\n"
          ]
        }
      ]
    },
    {
      "cell_type": "code",
      "source": [
        "###predicting what digit is\n",
        "\n",
        "n=7 #7th sample####change n and observe the graph and output--the graph must be in shape of output number for accuracy\n",
        "result=model.predict(dataset.images[n].reshape((1,-1)))\n",
        "plt.imshow(dataset.images[n], cmap=plt.cm.gray_r, interpolation='nearest')\n",
        "print(result)\n",
        "print(\"\\n\")\n",
        "plt.axis('off')\n",
        "plt.title('%i' %result)\n",
        "plt.show()"
      ],
      "metadata": {
        "colab": {
          "base_uri": "https://localhost:8080/",
          "height": 319
        },
        "id": "ajBgMte5kRrE",
        "outputId": "af878fc6-3f83-4956-c5f2-6f2e57f87e0e"
      },
      "execution_count": 24,
      "outputs": [
        {
          "output_type": "stream",
          "name": "stdout",
          "text": [
            "[7]\n",
            "\n",
            "\n"
          ]
        },
        {
          "output_type": "display_data",
          "data": {
            "text/plain": [
              "<Figure size 432x288 with 1 Axes>"
            ],
            "image/png": "[encoded data removed]"
          },
          "metadata": {
            "needs_background": "light"
          }
        }
      ]
    },
    {
      "cell_type": "code",
      "source": [
        ""
      ],
      "metadata": {
        "id": "yfZNW4WBkR49"
      },
      "execution_count": null,
      "outputs": []
    }
  ]
}